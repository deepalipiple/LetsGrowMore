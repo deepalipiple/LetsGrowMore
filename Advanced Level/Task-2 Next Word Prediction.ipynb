{
 "cells": [
  {
   "cell_type": "markdown",
   "id": "33d1c2d1",
   "metadata": {},
   "source": [
    "# Advanced Level Task 2\n",
    "Objective:  Next Word Prediction"
   ]
  },
  {
   "cell_type": "code",
   "execution_count": 1,
   "id": "b12bd1a2",
   "metadata": {
    "scrolled": true
   },
   "outputs": [],
   "source": [
    "import numpy as np\n",
    "from nltk.tokenize import RegexpTokenizer\n",
    "from keras.models import Sequential, load_model\n",
    "from keras.layers import LSTM\n",
    "from keras.layers.core import Dense, Activatiaon\n",
    "from keras.optimizers import RMSprop\n",
    "import matplotlib.pyplot as plt\n",
    "import pickle\n",
    "import heapq"
   ]
  },
  {
   "cell_type": "code",
   "execution_count": 24,
   "id": "9c0b66cf",
   "metadata": {
    "scrolled": true
   },
   "outputs": [],
   "source": [
    "path = '1661-0.txt'\n",
    "text = open(path, encoding='utf-8').read().lower()\n",
    "#print(text)"
   ]
  },
  {
   "cell_type": "code",
   "execution_count": 3,
   "id": "609e9517",
   "metadata": {},
   "outputs": [
    {
     "name": "stdout",
     "output_type": "stream",
     "text": [
      "length of the corpus is: : 581888\n"
     ]
    }
   ],
   "source": [
    "print('length of the corpus is: :', len(text))"
   ]
  },
  {
   "cell_type": "markdown",
   "id": "e0c764d6",
   "metadata": {},
   "source": [
    "# *Data Preprocessing*"
   ]
  },
  {
   "cell_type": "code",
   "execution_count": 4,
   "id": "f74c0f67",
   "metadata": {},
   "outputs": [
    {
     "name": "stdout",
     "output_type": "stream",
     "text": [
      "unique chars: 73\n"
     ]
    }
   ],
   "source": [
    "unique_words = sorted(list(set(text)))\n",
    "unique_word_index = dict((c, i) for i, c in enumerate(unique_words))\n",
    "unique_index_word = dict((i, c) for i, c in enumerate(unique_words))\n",
    "print(f'unique chars: {len(unique_words)}')"
   ]
  },
  {
   "cell_type": "code",
   "execution_count": 5,
   "id": "a50fefe4",
   "metadata": {},
   "outputs": [
    {
     "name": "stdout",
     "output_type": "stream",
     "text": [
      "﻿\n",
      "proje\n",
      "c\n"
     ]
    }
   ],
   "source": [
    "WORD_LENGTH = 7\n",
    "step = 3\n",
    "prev_words = []\n",
    "next_words = []\n",
    "for i in range(0, len(text) - WORD_LENGTH, step):\n",
    "    prev_words.append(text[i:i + WORD_LENGTH])\n",
    "    next_words.append(text[i + WORD_LENGTH])\n",
    "print(prev_words[0])\n",
    "print(next_words[0])"
   ]
  },
  {
   "cell_type": "code",
   "execution_count": 6,
   "id": "cc42dabc",
   "metadata": {},
   "outputs": [
    {
     "name": "stdout",
     "output_type": "stream",
     "text": [
      "num training examples: 193961\n",
      "num training examples: 193961\n"
     ]
    }
   ],
   "source": [
    "print(f'num training examples: {len(prev_words)}')\n",
    "print(f'num training examples: {len(next_words)}')"
   ]
  },
  {
   "cell_type": "code",
   "execution_count": 7,
   "id": "648da205",
   "metadata": {},
   "outputs": [
    {
     "data": {
      "text/plain": [
       "' '"
      ]
     },
     "execution_count": 7,
     "metadata": {},
     "output_type": "execute_result"
    }
   ],
   "source": [
    "X = np.zeros((len(prev_words), WORD_LENGTH, len(unique_words)), dtype=bool)\n",
    "Y = np.zeros((len(next_words), len(unique_words)), dtype=bool)\n",
    "for i, each_words in enumerate(prev_words):\n",
    "   for j, each_word in enumerate(each_words):\n",
    "        X[i, j, unique_word_index[each_word]] = 1\n",
    "   Y[i, unique_word_index[next_words[i]]] = 1\n",
    "\n",
    "prev_words[100]\n",
    "next_words[300]"
   ]
  },
  {
   "cell_type": "code",
   "execution_count": 8,
   "id": "53fafc47",
   "metadata": {},
   "outputs": [
    {
     "data": {
      "text/plain": [
       "(array([False, False, False, False, False, False, False, False, False,\n",
       "        False, False, False, False, False, False, False, False, False,\n",
       "        False, False, False, False, False, False, False, False, False,\n",
       "        False, False, False, False, False, False, False, False, False,\n",
       "        False, False, False, False, False, False, False, False, False,\n",
       "        False, False, False, False, False, False, False, False, False,\n",
       "        False, False, False, False, False, False, False, False, False,\n",
       "        False, False, False, False, False, False, False, False, False,\n",
       "         True]),\n",
       " (193961, 7, 73))"
      ]
     },
     "execution_count": 8,
     "metadata": {},
     "output_type": "execute_result"
    }
   ],
   "source": [
    "X[0][0],X.shape"
   ]
  },
  {
   "cell_type": "code",
   "execution_count": 9,
   "id": "93b0b7bf",
   "metadata": {},
   "outputs": [
    {
     "data": {
      "text/plain": [
       "(array([False, False, False, False, False, False, False, False, False,\n",
       "        False, False, False, False, False, False, False, False, False,\n",
       "        False, False, False, False, False, False, False, False, False,\n",
       "        False, False, False, False, False, False, False, False,  True,\n",
       "        False, False, False, False, False, False, False, False, False,\n",
       "        False, False, False, False, False, False, False, False, False,\n",
       "        False, False, False, False, False, False, False, False, False,\n",
       "        False, False, False, False, False, False, False, False, False,\n",
       "        False]),\n",
       " (193961, 73))"
      ]
     },
     "execution_count": 9,
     "metadata": {},
     "output_type": "execute_result"
    }
   ],
   "source": [
    "Y[0],Y.shape"
   ]
  },
  {
   "cell_type": "markdown",
   "id": "a9d9d26c",
   "metadata": {},
   "source": [
    "# *Model*"
   ]
  },
  {
   "cell_type": "code",
   "execution_count": 10,
   "id": "6d873235",
   "metadata": {},
   "outputs": [],
   "source": [
    "model = Sequential()\n",
    "model.add(LSTM(128, input_shape=(WORD_LENGTH, len(unique_words))))\n",
    "model.add(Dense(len(unique_words)))\n",
    "model.add(Activation('softmax'))"
   ]
  },
  {
   "cell_type": "code",
   "execution_count": 11,
   "id": "78606171",
   "metadata": {},
   "outputs": [
    {
     "name": "stdout",
     "output_type": "stream",
     "text": [
      "Model: \"sequential\"\n",
      "_________________________________________________________________\n",
      " Layer (type)                Output Shape              Param #   \n",
      "=================================================================\n",
      " lstm (LSTM)                 (None, 128)               103424    \n",
      "                                                                 \n",
      " dense (Dense)               (None, 73)                9417      \n",
      "                                                                 \n",
      " activation (Activation)     (None, 73)                0         \n",
      "                                                                 \n",
      "=================================================================\n",
      "Total params: 112,841\n",
      "Trainable params: 112,841\n",
      "Non-trainable params: 0\n",
      "_________________________________________________________________\n"
     ]
    }
   ],
   "source": [
    "model.summary()"
   ]
  },
  {
   "cell_type": "markdown",
   "id": "c88261d5",
   "metadata": {},
   "source": [
    "# *Training*"
   ]
  },
  {
   "cell_type": "code",
   "execution_count": 12,
   "id": "249d3e9d",
   "metadata": {
    "scrolled": true
   },
   "outputs": [
    {
     "name": "stderr",
     "output_type": "stream",
     "text": [
      "C:\\Users\\7024d\\anaconda3\\lib\\site-packages\\keras\\optimizers\\optimizer_v2\\rmsprop.py:135: UserWarning: The `lr` argument is deprecated, use `learning_rate` instead.\n",
      "  super(RMSprop, self).__init__(name, **kwargs)\n"
     ]
    },
    {
     "name": "stdout",
     "output_type": "stream",
     "text": [
      "Epoch 1/5\n",
      "1440/1440 [==============================] - 33s 19ms/step - loss: 1.9404 - accuracy: 0.4303 - val_loss: 2.0804 - val_accuracy: 0.4080\n",
      "Epoch 2/5\n",
      "1440/1440 [==============================] - 26s 18ms/step - loss: 1.6102 - accuracy: 0.5177 - val_loss: 2.0104 - val_accuracy: 0.4317\n",
      "Epoch 3/5\n",
      "1440/1440 [==============================] - 26s 18ms/step - loss: 1.5180 - accuracy: 0.5434 - val_loss: 1.9664 - val_accuracy: 0.4531\n",
      "Epoch 4/5\n",
      "1440/1440 [==============================] - 26s 18ms/step - loss: 1.4641 - accuracy: 0.5565 - val_loss: 1.9730 - val_accuracy: 0.4588\n",
      "Epoch 5/5\n",
      "1440/1440 [==============================] - 27s 18ms/step - loss: 1.4292 - accuracy: 0.5652 - val_loss: 1.9676 - val_accuracy: 0.4663\n"
     ]
    }
   ],
   "source": [
    "optimizer = RMSprop(learning_rate=0.01)\n",
    "model.compile(loss='categorical_crossentropy', optimizer=optimizer, metrics=['accuracy'])\n",
    "history = model.fit(X, Y, validation_split=0.05, batch_size=128, epochs=5, shuffle=True).history"
   ]
  },
  {
   "cell_type": "markdown",
   "id": "6528dd08",
   "metadata": {},
   "source": [
    "# *Loading*"
   ]
  },
  {
   "cell_type": "code",
   "execution_count": 13,
   "id": "8ede6a84",
   "metadata": {},
   "outputs": [],
   "source": [
    "model.save('next_word_model.h5')\n",
    "pickle.dump(history, open(\"history.p\", \"wb\"))\n",
    "model = load_model('next_word_model.h5')\n",
    "history = pickle.load(open(\"history.p\", \"rb\"))"
   ]
  },
  {
   "cell_type": "markdown",
   "id": "37cefe70",
   "metadata": {},
   "source": [
    "# *Evaluation*"
   ]
  },
  {
   "cell_type": "code",
   "execution_count": 14,
   "id": "41c15256",
   "metadata": {},
   "outputs": [
    {
     "name": "stdout",
     "output_type": "stream",
     "text": [
      "6062/6062 [==============================] - 33s 5ms/step - loss: 1.3893 - accuracy: 0.5781\n",
      "Test Loss 1.3892813920974731\n",
      "Test Accuracy 0.5780801177024841\n"
     ]
    }
   ],
   "source": [
    "loss_and_acc=model.evaluate(X,Y)\n",
    "print(\"Test Loss\", loss_and_acc[0])\n",
    "print(\"Test Accuracy\", loss_and_acc[1])"
   ]
  },
  {
   "cell_type": "code",
   "execution_count": 15,
   "id": "1a891190",
   "metadata": {},
   "outputs": [
    {
     "data": {
      "text/plain": [
       "<matplotlib.legend.Legend at 0x20c90725820>"
      ]
     },
     "execution_count": 15,
     "metadata": {},
     "output_type": "execute_result"
    },
    {
     "data": {
      "image/png": "[encoded data removed]",
      "text/plain": [
       "<Figure size 432x288 with 1 Axes>"
      ]
     },
     "metadata": {
      "needs_background": "light"
     },
     "output_type": "display_data"
    }
   ],
   "source": [
    "plt.plot(history['accuracy'])\n",
    "plt.plot(history['val_accuracy'])\n",
    "plt.title('model accuracy')\n",
    "plt.ylabel('accuracy')\n",
    "plt.xlabel('epoch')\n",
    "plt.legend(['train', 'test'], loc='upper left')"
   ]
  },
  {
   "cell_type": "code",
   "execution_count": 16,
   "id": "9f1df6e7",
   "metadata": {},
   "outputs": [
    {
     "data": {
      "text/plain": [
       "<matplotlib.legend.Legend at 0x20c905614c0>"
      ]
     },
     "execution_count": 16,
     "metadata": {},
     "output_type": "execute_result"
    },
    {
     "data": {
      "image/png": "[encoded data removed]",
      "text/plain": [
       "<Figure size 432x288 with 1 Axes>"
      ]
     },
     "metadata": {
      "needs_background": "light"
     },
     "output_type": "display_data"
    }
   ],
   "source": [
    "plt.plot(history['loss'])\n",
    "plt.plot(history['val_loss'])\n",
    "plt.title('model loss')\n",
    "plt.ylabel('loss')\n",
    "plt.xlabel('epoch')\n",
    "plt.legend(['train', 'test'], loc='upper left')"
   ]
  },
  {
   "cell_type": "code",
   "execution_count": 17,
   "id": "4f320922",
   "metadata": {},
   "outputs": [],
   "source": [
    "def prepare_input(text):\n",
    "    x = np.zeros((1, WORD_LENGTH, len(chars)))\n",
    "    for t, char in enumerate(text):\n",
    "       x[0, t, char_indices[char]] = 1.\n",
    "    return x\n",
    "\n",
    "#prepare_input(\"This is an example of input of our model\".lower())"
   ]
  },
  {
   "cell_type": "code",
   "execution_count": 18,
   "id": "4024e54f",
   "metadata": {},
   "outputs": [],
   "source": [
    "def sample(preds, top_n=3):\n",
    "   preds = np.asarray(preds).astype('float64')\n",
    "   preds = np.log(preds)\n",
    "   exp_preds = np.exp(preds)\n",
    "   preds = exp_preds / np.sum(exp_preds)\n",
    "   return heapq.nlargest(top_n, range(len(preds)), preds.take)"
   ]
  },
  {
   "cell_type": "code",
   "execution_count": 19,
   "id": "1eb9cfa4",
   "metadata": {},
   "outputs": [],
   "source": [
    "def predict_completion(text):\n",
    "    original_text = text\n",
    "    generated = text\n",
    "    completion = ''\n",
    "    while True:\n",
    "        x = prepare_input(text)\n",
    "        preds = model.predict(x, verbose=0)[0]\n",
    "        next_index = sample(preds, top_n=1)[0]\n",
    "        next_char = indices_char[next_index]\n",
    "        text = text[1:] + next_char\n",
    "        completion += next_char\n",
    "        \n",
    "        if len(original_text + completion) + 2 > len(original_text) and next_char == ' ':\n",
    "            return completion"
   ]
  },
  {
   "cell_type": "code",
   "execution_count": 20,
   "id": "cdd25f42",
   "metadata": {},
   "outputs": [],
   "source": [
    "def predict_completions(text, n=3):\n",
    "    x = prepare_input(text)\n",
    "    preds = model.predict(x, verbose=0)[0]\n",
    "    next_indices = sample(preds, n)\n",
    "    return [indices_char[idx] + predict_completion(text[1:] + indices_char[idx]) for idx in next_indices]"
   ]
  },
  {
   "cell_type": "code",
   "execution_count": 21,
   "id": "83471a9d",
   "metadata": {},
   "outputs": [],
   "source": [
    "def predict_completions(text, n=3):\n",
    "    x = prepare_input(text)\n",
    "    preds = model.predict(x, verbose=0)[0]\n",
    "    next_indices = sample(preds, n)\n",
    "    return [indices_char[idx] + predict_completion(text[1:] + indices_char[idx]) for idx in next_indices]"
   ]
  },
  {
   "cell_type": "markdown",
   "id": "ebfe7078",
   "metadata": {},
   "source": [
    "# *Prediction*"
   ]
  },
  {
   "cell_type": "code",
   "execution_count": 22,
   "id": "107df424",
   "metadata": {},
   "outputs": [],
   "source": [
    "quotes = [\n",
    "    \"It is not a lack of love, but a lack of friendship that makes unhappy marriages.\",\n",
    "    \"That which does not kill us makes us stronger.\",\n",
    "    \"I'm not upset that you lied to me, I'm upset that from now on I can't believe you.\",\n",
    "    \"And those who were seen dancing were thought to be insane by those who could not hear the music.\",\n",
    "    \"It is hard enough to remember my opinions, without also remembering my reasons for them!\"\n",
    "]"
   ]
  },
  {
   "cell_type": "code",
   "execution_count": 23,
   "id": "b335c26e",
   "metadata": {},
   "outputs": [
    {
     "name": "stdout",
     "output_type": "stream",
  "text": [
            "it is not a lack of love, but a lack of\n",
            "['the ', 'an ', 'such ', 'man ', 'present, ']\n",
            "\n",
            "that which does not kill us makes us str\n",
            "['ength ', 'uggle ', 'ong ', 'ange ', 'ive ']\n",
            "\n",
            "i'm not upset that you lied to me, i'm u\n",
            "['nder ', 'pon ', 'ses ', 't ', 'uder ']\n",
            "\n",
            "and those who were seen dancing were tho\n",
            "['se ', 're ', 'ugh ', ' servated ', 't ']\n",
            "\n",
            "it is hard enough to remember my opinion\n",
            "[' of ', 's ', ', ', 'nof ', 'ed ']\n",
            "\n"
          ]
    }
   ],
   "source": [
    "for q in quotes:\n",
    "    seq = q[:40].lower()\n",
    "    print(seq)\n",
    "    print(predict_completions(seq, 5))\n",
    "    print()"
   ]
  }
 ],
 "metadata": {
  "kernelspec": {
   "display_name": "Python 3",
   "language": "python",
   "name": "python3"
  },
  "language_info": {
   "codemirror_mode": {
    "name": "ipython",
    "version": 3
   },
   "file_extension": ".py",
   "mimetype": "text/x-python",
   "name": "python",
   "nbconvert_exporter": "python",
   "pygments_lexer": "ipython3",
   "version": "3.8.8"
  }
 },
 "nbformat": 4,
 "nbformat_minor": 5
}
