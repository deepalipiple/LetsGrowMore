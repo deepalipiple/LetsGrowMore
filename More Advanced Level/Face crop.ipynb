{
 "cells": [
  {
   "cell_type": "code",
   "execution_count": 1,
   "id": "b7b6bf1d",
   "metadata": {},
   "outputs": [],
   "source": [
    "import cv2,glob"
   ]
  },
  {
   "cell_type": "code",
   "execution_count": 2,
   "id": "53e7d713",
   "metadata": {},
   "outputs": [],
   "source": [
    "images=glob.glob(\"*.jpg\")\n",
    "\n",
    "for image in images:\n",
    "    facedata = \"haarcascade_frontalface_alt.xml\"\n",
    "    cascade = cv2.CascadeClassifier(facedata)\n",
    "    img=cv2.imread(image,0)\n",
    "\n",
    "    re=cv2.resize(img,(int(img.shape[1]),int(img.shape[0])))\n",
    "    faces = cascade.detectMultiScale(re)\n",
    "\n",
    "    for f in faces:\n",
    "        x, y, w, h = [v for v in f]\n",
    "        Rect=cv2.rectangle(img, (x, y), (x + w, y + h), (0, 255, 0), 2)\n",
    "\n",
    "        sub_face = img[y:y + h, x:x + w]\n",
    "\n",
    "        f_name = image.split('/')\n",
    "        f_name = f_name[-1]\n",
    "        cv2.imshow(\"checking\",sub_face)\n",
    "        cv2.waitKey(500)\n",
    "        cv2.destroyAllWindows()\n",
    "\n",
    "\n",
    "\n",
    "        cv2.imwrite(\"resized_\"+image,sub_face)"
   ]
  }
 ],
 "metadata": {
  "kernelspec": {
   "display_name": "Python 3",
   "language": "python",
   "name": "python3"
  },
  "language_info": {
   "codemirror_mode": {
    "name": "ipython",
    "version": 3
   },
   "file_extension": ".py",
   "mimetype": "text/x-python",
   "name": "python",
   "nbconvert_exporter": "python",
   "pygments_lexer": "ipython3",
   "version": "3.8.8"
  }
 },
 "nbformat": 4,
 "nbformat_minor": 5
}
