{
 "cells": [
  {
   "cell_type": "code",
   "execution_count": 1,
   "id": "a2594eec",
   "metadata": {},
   "outputs": [],
   "source": [
    "import cv2"
   ]
  },
  {
   "cell_type": "code",
   "execution_count": 2,
   "id": "4499c279",
   "metadata": {},
   "outputs": [],
   "source": [
    "image = cv2.imread(\"Task-4 Rose.jpg\")\n",
    "#cv2.imshow(\"Rose\",image)"
   ]
  },
  {
   "cell_type": "code",
   "execution_count": 3,
   "id": "667f5d8f",
   "metadata": {},
   "outputs": [],
   "source": [
    "gray_image = cv2.cvtColor(image, cv2.COLOR_BGR2GRAY)\n",
    "#cv2.imshow(\"New Rose\", gray_image)"
   ]
  },
  {
   "cell_type": "code",
   "execution_count": 4,
   "id": "8c9e414b",
   "metadata": {},
   "outputs": [],
   "source": [
    "inverted_image = 255 - gray_image\n",
    "#cv2.imshow(\"Inverted Rose\", inverted_image)"
   ]
  },
  {
   "cell_type": "code",
   "execution_count": 5,
   "id": "46aac667",
   "metadata": {},
   "outputs": [],
   "source": [
    "blurred = cv2.GaussianBlur(inverted_image, (21, 21), 0)"
   ]
  },
  {
   "cell_type": "code",
   "execution_count": 6,
   "id": "01c181b3",
   "metadata": {},
   "outputs": [],
   "source": [
    "inverted_blurred = 255 - blurred\n",
    "pencil_sketch = cv2.divide(gray_image, inverted_blurred, scale=256.0)\n",
    "#cv2.imshow(\"Sketch Rose\", pencil_sketch)"
   ]
  },
  {
   "cell_type": "code",
   "execution_count": 7,
   "id": "bbb509b5",
   "metadata": {},
   "outputs": [
    {
     "data": {
      "text/plain": [
       "True"
      ]
     },
     "execution_count": 7,
     "metadata": {},
     "output_type": "execute_result"
    }
   ],
   "source": [
    "cv2.imwrite(\"Task-4 Sketch_Rose.png\", pencil_sketch)"
   ]
  }
 ],
 "metadata": {
  "kernelspec": {
   "display_name": "Python 3",
   "language": "python",
   "name": "python3"
  },
  "language_info": {
   "codemirror_mode": {
    "name": "ipython",
    "version": 3
   },
   "file_extension": ".py",
   "mimetype": "text/x-python",
   "name": "python",
   "nbconvert_exporter": "python",
   "pygments_lexer": "ipython3",
   "version": "3.8.8"
  }
 },
 "nbformat": 4,
 "nbformat_minor": 5
}
