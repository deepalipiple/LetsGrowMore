{
 "cells": [
  {
   "cell_type": "markdown",
   "id": "23ca189d",
   "metadata": {},
   "source": [
    "# * Beginner Level Task 2 *\n",
    "Stock Market Prediction And Forecasting Using Stacked LSTM"
   ]
  },
  {
   "cell_type": "markdown",
   "id": "a8c9aaf3",
   "metadata": {},
   "source": [
    "Tutorial: https://www.youtube.com/watch?v=H6du_pfuznE"
   ]
  },
  {
   "cell_type": "code",
   "execution_count": 1,
   "id": "2458950a",
   "metadata": {},
   "outputs": [],
   "source": [
    "# IMPORTING LIBRARIES\n",
    "\n",
    "import numpy as np\n",
    "import pandas as pd\n",
    "import seaborn as sns\n",
    "%matplotlib inline\n",
    "import matplotlib.pyplot as plt\n",
    "from sklearn.metrics import mean_squared_error"
   ]
  },
  {
   "cell_type": "markdown",
   "id": "faae771e",
   "metadata": {},
   "source": [
    "Loading Stock Market Prediction data "
   ]
  },
  {
   "cell_type": "code",
   "execution_count": 2,
   "id": "6ce057a3",
   "metadata": {
    "scrolled": true
   },
   "outputs": [
    {
     "data": {
      "text/html": [
       "<div>\n",
       "<style scoped>\n",
       "    .dataframe tbody tr th:only-of-type {\n",
       "        vertical-align: middle;\n",
       "    }\n",
       "\n",
       "    .dataframe tbody tr th {\n",
       "        vertical-align: top;\n",
       "    }\n",
       "\n",
       "    .dataframe thead th {\n",
       "        text-align: right;\n",
       "    }\n",
       "</style>\n",
       "<table border=\"1\" class=\"dataframe\">\n",
       "  <thead>\n",
       "    <tr style=\"text-align: right;\">\n",
       "      <th></th>\n",
       "      <th>Date</th>\n",
       "      <th>Open</th>\n",
       "      <th>High</th>\n",
       "      <th>Low</th>\n",
       "      <th>Last</th>\n",
       "      <th>Close</th>\n",
       "      <th>Total Trade Quantity</th>\n",
       "      <th>Turnover (Lacs)</th>\n",
       "    </tr>\n",
       "  </thead>\n",
       "  <tbody>\n",
       "    <tr>\n",
       "      <th>0</th>\n",
       "      <td>2018-09-28</td>\n",
       "      <td>234.05</td>\n",
       "      <td>235.95</td>\n",
       "      <td>230.20</td>\n",
       "      <td>233.50</td>\n",
       "      <td>233.75</td>\n",
       "      <td>3069914</td>\n",
       "      <td>7162.35</td>\n",
       "    </tr>\n",
       "    <tr>\n",
       "      <th>1</th>\n",
       "      <td>2018-09-27</td>\n",
       "      <td>234.55</td>\n",
       "      <td>236.80</td>\n",
       "      <td>231.10</td>\n",
       "      <td>233.80</td>\n",
       "      <td>233.25</td>\n",
       "      <td>5082859</td>\n",
       "      <td>11859.95</td>\n",
       "    </tr>\n",
       "    <tr>\n",
       "      <th>2</th>\n",
       "      <td>2018-09-26</td>\n",
       "      <td>240.00</td>\n",
       "      <td>240.00</td>\n",
       "      <td>232.50</td>\n",
       "      <td>235.00</td>\n",
       "      <td>234.25</td>\n",
       "      <td>2240909</td>\n",
       "      <td>5248.60</td>\n",
       "    </tr>\n",
       "    <tr>\n",
       "      <th>3</th>\n",
       "      <td>2018-09-25</td>\n",
       "      <td>233.30</td>\n",
       "      <td>236.75</td>\n",
       "      <td>232.00</td>\n",
       "      <td>236.25</td>\n",
       "      <td>236.10</td>\n",
       "      <td>2349368</td>\n",
       "      <td>5503.90</td>\n",
       "    </tr>\n",
       "    <tr>\n",
       "      <th>4</th>\n",
       "      <td>2018-09-24</td>\n",
       "      <td>233.55</td>\n",
       "      <td>239.20</td>\n",
       "      <td>230.75</td>\n",
       "      <td>234.00</td>\n",
       "      <td>233.30</td>\n",
       "      <td>3423509</td>\n",
       "      <td>7999.55</td>\n",
       "    </tr>\n",
       "    <tr>\n",
       "      <th>5</th>\n",
       "      <td>2018-09-21</td>\n",
       "      <td>235.00</td>\n",
       "      <td>237.00</td>\n",
       "      <td>227.95</td>\n",
       "      <td>233.75</td>\n",
       "      <td>234.60</td>\n",
       "      <td>5395319</td>\n",
       "      <td>12589.59</td>\n",
       "    </tr>\n",
       "    <tr>\n",
       "      <th>6</th>\n",
       "      <td>2018-09-19</td>\n",
       "      <td>235.95</td>\n",
       "      <td>237.20</td>\n",
       "      <td>233.45</td>\n",
       "      <td>234.60</td>\n",
       "      <td>234.90</td>\n",
       "      <td>1362058</td>\n",
       "      <td>3202.78</td>\n",
       "    </tr>\n",
       "    <tr>\n",
       "      <th>7</th>\n",
       "      <td>2018-09-18</td>\n",
       "      <td>237.90</td>\n",
       "      <td>239.25</td>\n",
       "      <td>233.50</td>\n",
       "      <td>235.50</td>\n",
       "      <td>235.05</td>\n",
       "      <td>2614794</td>\n",
       "      <td>6163.70</td>\n",
       "    </tr>\n",
       "    <tr>\n",
       "      <th>8</th>\n",
       "      <td>2018-09-17</td>\n",
       "      <td>233.15</td>\n",
       "      <td>238.00</td>\n",
       "      <td>230.25</td>\n",
       "      <td>236.40</td>\n",
       "      <td>236.60</td>\n",
       "      <td>3170894</td>\n",
       "      <td>7445.41</td>\n",
       "    </tr>\n",
       "    <tr>\n",
       "      <th>9</th>\n",
       "      <td>2018-09-14</td>\n",
       "      <td>223.45</td>\n",
       "      <td>236.70</td>\n",
       "      <td>223.30</td>\n",
       "      <td>234.00</td>\n",
       "      <td>233.95</td>\n",
       "      <td>6377909</td>\n",
       "      <td>14784.50</td>\n",
       "    </tr>\n",
       "  </tbody>\n",
       "</table>\n",
       "</div>"
      ],
      "text/plain": [
       "         Date    Open    High     Low    Last   Close  Total Trade Quantity  \\\n",
       "0  2018-09-28  234.05  235.95  230.20  233.50  233.75               3069914   \n",
       "1  2018-09-27  234.55  236.80  231.10  233.80  233.25               5082859   \n",
       "2  2018-09-26  240.00  240.00  232.50  235.00  234.25               2240909   \n",
       "3  2018-09-25  233.30  236.75  232.00  236.25  236.10               2349368   \n",
       "4  2018-09-24  233.55  239.20  230.75  234.00  233.30               3423509   \n",
       "5  2018-09-21  235.00  237.00  227.95  233.75  234.60               5395319   \n",
       "6  2018-09-19  235.95  237.20  233.45  234.60  234.90               1362058   \n",
       "7  2018-09-18  237.90  239.25  233.50  235.50  235.05               2614794   \n",
       "8  2018-09-17  233.15  238.00  230.25  236.40  236.60               3170894   \n",
       "9  2018-09-14  223.45  236.70  223.30  234.00  233.95               6377909   \n",
       "\n",
       "   Turnover (Lacs)  \n",
       "0          7162.35  \n",
       "1         11859.95  \n",
       "2          5248.60  \n",
       "3          5503.90  \n",
       "4          7999.55  \n",
       "5         12589.59  \n",
       "6          3202.78  \n",
       "7          6163.70  \n",
       "8          7445.41  \n",
       "9         14784.50  "
      ]
     },
     "execution_count": 2,
     "metadata": {},
     "output_type": "execute_result"
    }
   ],
   "source": [
    "dataset =pd.read_csv('Stock.csv')\n",
    "dataset.head(10)"
   ]
  },
  {
   "cell_type": "markdown",
   "id": "df4e871f",
   "metadata": {},
   "source": [
    "# Summarize the Dataset"
   ]
  },
  {
   "cell_type": "code",
   "execution_count": 3,
   "id": "bba28f0d",
   "metadata": {},
   "outputs": [
    {
     "data": {
      "text/plain": [
       "(2035, 8)"
      ]
     },
     "execution_count": 3,
     "metadata": {},
     "output_type": "execute_result"
    }
   ],
   "source": [
    "dataset.shape"
   ]
  },
  {
   "cell_type": "code",
   "execution_count": 4,
   "id": "9affc71b",
   "metadata": {
    "scrolled": true
   },
   "outputs": [
    {
     "name": "stdout",
     "output_type": "stream",
     "text": [
      "<class 'pandas.core.frame.DataFrame'>\n",
      "RangeIndex: 2035 entries, 0 to 2034\n",
      "Data columns (total 8 columns):\n",
      " #   Column                Non-Null Count  Dtype  \n",
      "---  ------                --------------  -----  \n",
      " 0   Date                  2035 non-null   object \n",
      " 1   Open                  2035 non-null   float64\n",
      " 2   High                  2035 non-null   float64\n",
      " 3   Low                   2035 non-null   float64\n",
      " 4   Last                  2035 non-null   float64\n",
      " 5   Close                 2035 non-null   float64\n",
      " 6   Total Trade Quantity  2035 non-null   int64  \n",
      " 7   Turnover (Lacs)       2035 non-null   float64\n",
      "dtypes: float64(6), int64(1), object(1)\n",
      "memory usage: 127.3+ KB\n"
     ]
    }
   ],
   "source": [
    "dataset.info()"
   ]
  },
  {
   "cell_type": "code",
   "execution_count": 5,
   "id": "ca37fa1a",
   "metadata": {},
   "outputs": [
    {
     "data": {
      "text/html": [
       "<div>\n",
       "<style scoped>\n",
       "    .dataframe tbody tr th:only-of-type {\n",
       "        vertical-align: middle;\n",
       "    }\n",
       "\n",
       "    .dataframe tbody tr th {\n",
       "        vertical-align: top;\n",
       "    }\n",
       "\n",
       "    .dataframe thead th {\n",
       "        text-align: right;\n",
       "    }\n",
       "</style>\n",
       "<table border=\"1\" class=\"dataframe\">\n",
       "  <thead>\n",
       "    <tr style=\"text-align: right;\">\n",
       "      <th></th>\n",
       "      <th>Open</th>\n",
       "      <th>High</th>\n",
       "      <th>Low</th>\n",
       "      <th>Last</th>\n",
       "      <th>Close</th>\n",
       "      <th>Total Trade Quantity</th>\n",
       "      <th>Turnover (Lacs)</th>\n",
       "    </tr>\n",
       "  </thead>\n",
       "  <tbody>\n",
       "    <tr>\n",
       "      <th>count</th>\n",
       "      <td>2035.000000</td>\n",
       "      <td>2035.000000</td>\n",
       "      <td>2035.000000</td>\n",
       "      <td>2035.000000</td>\n",
       "      <td>2035.00000</td>\n",
       "      <td>2.035000e+03</td>\n",
       "      <td>2035.000000</td>\n",
       "    </tr>\n",
       "    <tr>\n",
       "      <th>mean</th>\n",
       "      <td>149.713735</td>\n",
       "      <td>151.992826</td>\n",
       "      <td>147.293931</td>\n",
       "      <td>149.474251</td>\n",
       "      <td>149.45027</td>\n",
       "      <td>2.335681e+06</td>\n",
       "      <td>3899.980565</td>\n",
       "    </tr>\n",
       "    <tr>\n",
       "      <th>std</th>\n",
       "      <td>48.664509</td>\n",
       "      <td>49.413109</td>\n",
       "      <td>47.931958</td>\n",
       "      <td>48.732570</td>\n",
       "      <td>48.71204</td>\n",
       "      <td>2.091778e+06</td>\n",
       "      <td>4570.767877</td>\n",
       "    </tr>\n",
       "    <tr>\n",
       "      <th>min</th>\n",
       "      <td>81.100000</td>\n",
       "      <td>82.800000</td>\n",
       "      <td>80.000000</td>\n",
       "      <td>81.000000</td>\n",
       "      <td>80.95000</td>\n",
       "      <td>3.961000e+04</td>\n",
       "      <td>37.040000</td>\n",
       "    </tr>\n",
       "    <tr>\n",
       "      <th>25%</th>\n",
       "      <td>120.025000</td>\n",
       "      <td>122.100000</td>\n",
       "      <td>118.300000</td>\n",
       "      <td>120.075000</td>\n",
       "      <td>120.05000</td>\n",
       "      <td>1.146444e+06</td>\n",
       "      <td>1427.460000</td>\n",
       "    </tr>\n",
       "    <tr>\n",
       "      <th>50%</th>\n",
       "      <td>141.500000</td>\n",
       "      <td>143.400000</td>\n",
       "      <td>139.600000</td>\n",
       "      <td>141.100000</td>\n",
       "      <td>141.25000</td>\n",
       "      <td>1.783456e+06</td>\n",
       "      <td>2512.030000</td>\n",
       "    </tr>\n",
       "    <tr>\n",
       "      <th>75%</th>\n",
       "      <td>157.175000</td>\n",
       "      <td>159.400000</td>\n",
       "      <td>155.150000</td>\n",
       "      <td>156.925000</td>\n",
       "      <td>156.90000</td>\n",
       "      <td>2.813594e+06</td>\n",
       "      <td>4539.015000</td>\n",
       "    </tr>\n",
       "    <tr>\n",
       "      <th>max</th>\n",
       "      <td>327.700000</td>\n",
       "      <td>328.750000</td>\n",
       "      <td>321.650000</td>\n",
       "      <td>325.950000</td>\n",
       "      <td>325.75000</td>\n",
       "      <td>2.919102e+07</td>\n",
       "      <td>55755.080000</td>\n",
       "    </tr>\n",
       "  </tbody>\n",
       "</table>\n",
       "</div>"
      ],
      "text/plain": [
       "              Open         High          Low         Last       Close  \\\n",
       "count  2035.000000  2035.000000  2035.000000  2035.000000  2035.00000   \n",
       "mean    149.713735   151.992826   147.293931   149.474251   149.45027   \n",
       "std      48.664509    49.413109    47.931958    48.732570    48.71204   \n",
       "min      81.100000    82.800000    80.000000    81.000000    80.95000   \n",
       "25%     120.025000   122.100000   118.300000   120.075000   120.05000   \n",
       "50%     141.500000   143.400000   139.600000   141.100000   141.25000   \n",
       "75%     157.175000   159.400000   155.150000   156.925000   156.90000   \n",
       "max     327.700000   328.750000   321.650000   325.950000   325.75000   \n",
       "\n",
       "       Total Trade Quantity  Turnover (Lacs)  \n",
       "count          2.035000e+03      2035.000000  \n",
       "mean           2.335681e+06      3899.980565  \n",
       "std            2.091778e+06      4570.767877  \n",
       "min            3.961000e+04        37.040000  \n",
       "25%            1.146444e+06      1427.460000  \n",
       "50%            1.783456e+06      2512.030000  \n",
       "75%            2.813594e+06      4539.015000  \n",
       "max            2.919102e+07     55755.080000  "
      ]
     },
     "execution_count": 5,
     "metadata": {},
     "output_type": "execute_result"
    }
   ],
   "source": [
    "dataset.describe()"
   ]
  },
  {
   "cell_type": "code",
   "execution_count": 6,
   "id": "abf72d96",
   "metadata": {},
   "outputs": [
    {
     "data": {
      "text/html": [
       "<div>\n",
       "<style scoped>\n",
       "    .dataframe tbody tr th:only-of-type {\n",
       "        vertical-align: middle;\n",
       "    }\n",
       "\n",
       "    .dataframe tbody tr th {\n",
       "        vertical-align: top;\n",
       "    }\n",
       "\n",
       "    .dataframe thead th {\n",
       "        text-align: right;\n",
       "    }\n",
       "</style>\n",
       "<table border=\"1\" class=\"dataframe\">\n",
       "  <thead>\n",
       "    <tr style=\"text-align: right;\">\n",
       "      <th></th>\n",
       "      <th>Date</th>\n",
       "      <th>Open</th>\n",
       "      <th>High</th>\n",
       "      <th>Low</th>\n",
       "      <th>Last</th>\n",
       "      <th>Close</th>\n",
       "      <th>Total Trade Quantity</th>\n",
       "      <th>Turnover (Lacs)</th>\n",
       "    </tr>\n",
       "  </thead>\n",
       "  <tbody>\n",
       "    <tr>\n",
       "      <th>2030</th>\n",
       "      <td>2010-07-27</td>\n",
       "      <td>117.6</td>\n",
       "      <td>119.50</td>\n",
       "      <td>112.00</td>\n",
       "      <td>118.80</td>\n",
       "      <td>118.65</td>\n",
       "      <td>586100</td>\n",
       "      <td>694.98</td>\n",
       "    </tr>\n",
       "    <tr>\n",
       "      <th>2031</th>\n",
       "      <td>2010-07-26</td>\n",
       "      <td>120.1</td>\n",
       "      <td>121.00</td>\n",
       "      <td>117.10</td>\n",
       "      <td>117.10</td>\n",
       "      <td>117.60</td>\n",
       "      <td>658440</td>\n",
       "      <td>780.01</td>\n",
       "    </tr>\n",
       "    <tr>\n",
       "      <th>2032</th>\n",
       "      <td>2010-07-23</td>\n",
       "      <td>121.8</td>\n",
       "      <td>121.95</td>\n",
       "      <td>120.25</td>\n",
       "      <td>120.35</td>\n",
       "      <td>120.65</td>\n",
       "      <td>281312</td>\n",
       "      <td>340.31</td>\n",
       "    </tr>\n",
       "    <tr>\n",
       "      <th>2033</th>\n",
       "      <td>2010-07-22</td>\n",
       "      <td>120.3</td>\n",
       "      <td>122.00</td>\n",
       "      <td>120.25</td>\n",
       "      <td>120.75</td>\n",
       "      <td>120.90</td>\n",
       "      <td>293312</td>\n",
       "      <td>355.17</td>\n",
       "    </tr>\n",
       "    <tr>\n",
       "      <th>2034</th>\n",
       "      <td>2010-07-21</td>\n",
       "      <td>122.1</td>\n",
       "      <td>123.00</td>\n",
       "      <td>121.05</td>\n",
       "      <td>121.10</td>\n",
       "      <td>121.55</td>\n",
       "      <td>658666</td>\n",
       "      <td>803.56</td>\n",
       "    </tr>\n",
       "  </tbody>\n",
       "</table>\n",
       "</div>"
      ],
      "text/plain": [
       "            Date   Open    High     Low    Last   Close  Total Trade Quantity  \\\n",
       "2030  2010-07-27  117.6  119.50  112.00  118.80  118.65                586100   \n",
       "2031  2010-07-26  120.1  121.00  117.10  117.10  117.60                658440   \n",
       "2032  2010-07-23  121.8  121.95  120.25  120.35  120.65                281312   \n",
       "2033  2010-07-22  120.3  122.00  120.25  120.75  120.90                293312   \n",
       "2034  2010-07-21  122.1  123.00  121.05  121.10  121.55                658666   \n",
       "\n",
       "      Turnover (Lacs)  \n",
       "2030           694.98  \n",
       "2031           780.01  \n",
       "2032           340.31  \n",
       "2033           355.17  \n",
       "2034           803.56  "
      ]
     },
     "execution_count": 6,
     "metadata": {},
     "output_type": "execute_result"
    }
   ],
   "source": [
    "dataset.tail()"
   ]
  },
  {
   "cell_type": "code",
   "execution_count": 7,
   "id": "c5f7e0ca",
   "metadata": {},
   "outputs": [],
   "source": [
    "df1=dataset.reset_index()['High']"
   ]
  },
  {
   "cell_type": "code",
   "execution_count": 8,
   "id": "099a1be6",
   "metadata": {},
   "outputs": [
    {
     "data": {
      "text/plain": [
       "(2035,)"
      ]
     },
     "execution_count": 8,
     "metadata": {},
     "output_type": "execute_result"
    }
   ],
   "source": [
    "df1.shape"
   ]
  },
  {
   "cell_type": "code",
   "execution_count": 9,
   "id": "b480181b",
   "metadata": {},
   "outputs": [
    {
     "data": {
      "text/plain": [
       "[<matplotlib.lines.Line2D at 0x1b16b7a9a90>]"
      ]
     },
     "execution_count": 9,
     "metadata": {},
     "output_type": "execute_result"
    },
    {
     "data": {
      "image/png": "[encoded data removed]",
      "text/plain": [
       "<Figure size 432x288 with 1 Axes>"
      ]
     },
     "metadata": {
      "needs_background": "light"
     },
     "output_type": "display_data"
    }
   ],
   "source": [
    "plt.plot(df1)"
   ]
  },
  {
   "cell_type": "markdown",
   "id": "6085a34f",
   "metadata": {},
   "source": [
    "LSTM are sensitive to the scale of the data. so we apply MinMax scaler"
   ]
  },
  {
   "cell_type": "code",
   "execution_count": 10,
   "id": "72b7a982",
   "metadata": {},
   "outputs": [],
   "source": [
    "from sklearn.preprocessing import MinMaxScaler\n",
    "\n",
    "scaler = MinMaxScaler(feature_range=(0,1))\n",
    "df1 = scaler.fit_transform(np.array(df1).reshape(-1,1)) "
   ]
  },
  {
   "cell_type": "code",
   "execution_count": 11,
   "id": "9b3b42b2",
   "metadata": {},
   "outputs": [
    {
     "data": {
      "text/plain": [
       "array([[0.62268754],\n",
       "       [0.62614353],\n",
       "       [0.6391543 ],\n",
       "       ...,\n",
       "       [0.15917869],\n",
       "       [0.15938199],\n",
       "       [0.16344786]])"
      ]
     },
     "execution_count": 11,
     "metadata": {},
     "output_type": "execute_result"
    }
   ],
   "source": [
    "df1"
   ]
  },
  {
   "cell_type": "code",
   "execution_count": 12,
   "id": "3e72296e",
   "metadata": {},
   "outputs": [
    {
     "data": {
      "text/plain": [
       "(2035, 1)"
      ]
     },
     "execution_count": 12,
     "metadata": {},
     "output_type": "execute_result"
    }
   ],
   "source": [
    "df1.shape"
   ]
  },
  {
   "cell_type": "markdown",
   "id": "f97f4f73",
   "metadata": {},
   "source": [
    "# Train and Test Split"
   ]
  },
  {
   "cell_type": "code",
   "execution_count": 13,
   "id": "97e2d393",
   "metadata": {},
   "outputs": [],
   "source": [
    "train_size = int (len(df1)*0.8)   # taking 80 % data as training data\n",
    "test_size = len(df1)-train_size     # rest 20 % as testing data\n",
    "\n",
    "train_data = df1[0:train_size,:]\n",
    "test_data = df1[train_size:len(df1),:1]"
   ]
  },
  {
   "cell_type": "code",
   "execution_count": 14,
   "id": "b729dbea",
   "metadata": {},
   "outputs": [
    {
     "data": {
      "text/plain": [
       "(1628, 407)"
      ]
     },
     "execution_count": 14,
     "metadata": {},
     "output_type": "execute_result"
    }
   ],
   "source": [
    "train_size, test_size"
   ]
  },
  {
   "cell_type": "code",
   "execution_count": 15,
   "id": "2afdb2dd",
   "metadata": {},
   "outputs": [
    {
     "data": {
      "text/plain": [
       "array([[0.62268754],\n",
       "       [0.62614353],\n",
       "       [0.6391543 ],\n",
       "       ...,\n",
       "       [0.14210205],\n",
       "       [0.15125025],\n",
       "       [0.15145355]])"
      ]
     },
     "execution_count": 15,
     "metadata": {},
     "output_type": "execute_result"
    }
   ],
   "source": [
    "train_data"
   ]
  },
  {
   "cell_type": "code",
   "execution_count": 16,
   "id": "80ebcb36",
   "metadata": {},
   "outputs": [
    {
     "data": {
      "text/plain": [
       "array([[0.15734905],\n",
       "       [0.16873348],\n",
       "       [0.1774751 ],\n",
       "       [0.18702988],\n",
       "       [0.16039845],\n",
       "       [0.15206343],\n",
       "       [0.1589754 ],\n",
       "       [0.16263468],\n",
       "       [0.15978857],\n",
       "       [0.16324456],\n",
       "       [0.16283798],\n",
       "       [0.16588738],\n",
       "       [0.16182151],\n",
       "       [0.16263468],\n",
       "       [0.1652775 ],\n",
       "       [0.17056312],\n",
       "       [0.1772718 ],\n",
       "       [0.14718439],\n",
       "       [0.14108559],\n",
       "       [0.16060175],\n",
       "       [0.15328319],\n",
       "       [0.12421224],\n",
       "       [0.13498679],\n",
       "       [0.10591584],\n",
       "       [0.07074609],\n",
       "       [0.06566375],\n",
       "       [0.05448262],\n",
       "       [0.0459443 ],\n",
       "       [0.04513112],\n",
       "       [0.05448262],\n",
       "       [0.05407603],\n",
       "       [0.05976825],\n",
       "       [0.07318561],\n",
       "       [0.06668022],\n",
       "       [0.05570238],\n",
       "       [0.04797723],\n",
       "       [0.05122992],\n",
       "       [0.0487904 ],\n",
       "       [0.04940028],\n",
       "       [0.04614759],\n",
       "       [0.04838382],\n",
       "       [0.05122992],\n",
       "       [0.05773531],\n",
       "       [0.0487904 ],\n",
       "       [0.03699939],\n",
       "       [0.03598292],\n",
       "       [0.03252694],\n",
       "       [0.02724131],\n",
       "       [0.0276479 ],\n",
       "       [0.02785119],\n",
       "       [0.03516975],\n",
       "       [0.030494  ],\n",
       "       [0.02073592],\n",
       "       [0.01788982],\n",
       "       [0.01341736],\n",
       "       [0.03394999],\n",
       "       [0.0306973 ],\n",
       "       [0.03171376],\n",
       "       [0.0274446 ],\n",
       "       [0.03171376],\n",
       "       [0.03029071],\n",
       "       [0.03394999],\n",
       "       [0.03557634],\n",
       "       [0.04065867],\n",
       "       [0.04025208],\n",
       "       [0.02398862],\n",
       "       [0.00975808],\n",
       "       [0.01443383],\n",
       "       [0.0060988 ],\n",
       "       [0.00081317],\n",
       "       [0.00243952],\n",
       "       [0.        ],\n",
       "       [0.00264281],\n",
       "       [0.00426916],\n",
       "       [0.00386257],\n",
       "       [0.01077455],\n",
       "       [0.01321407],\n",
       "       [0.01992275],\n",
       "       [0.02703802],\n",
       "       [0.02724131],\n",
       "       [0.03496646],\n",
       "       [0.03598292],\n",
       "       [0.03760927],\n",
       "       [0.0365928 ],\n",
       "       [0.0398455 ],\n",
       "       [0.0428949 ],\n",
       "       [0.04187843],\n",
       "       [0.03334011],\n",
       "       [0.0215491 ],\n",
       "       [0.01870299],\n",
       "       [0.01606017],\n",
       "       [0.01463712],\n",
       "       [0.01890628],\n",
       "       [0.02561496],\n",
       "       [0.02927424],\n",
       "       [0.03293352],\n",
       "       [0.02276886],\n",
       "       [0.02642814],\n",
       "       [0.02602155],\n",
       "       [0.0243952 ],\n",
       "       [0.01484041],\n",
       "       [0.00284611],\n",
       "       [0.00365928],\n",
       "       [0.00833503],\n",
       "       [0.01097784],\n",
       "       [0.01707664],\n",
       "       [0.01870299],\n",
       "       [0.02581826],\n",
       "       [0.02520838],\n",
       "       [0.02032934],\n",
       "       [0.02114251],\n",
       "       [0.03618622],\n",
       "       [0.04228502],\n",
       "       [0.04025208],\n",
       "       [0.03699939],\n",
       "       [0.04350478],\n",
       "       [0.04309819],\n",
       "       [0.03943891],\n",
       "       [0.04553771],\n",
       "       [0.03943891],\n",
       "       [0.05732873],\n",
       "       [0.05346615],\n",
       "       [0.05326286],\n",
       "       [0.04960358],\n",
       "       [0.04431795],\n",
       "       [0.0487904 ],\n",
       "       [0.05163651],\n",
       "       [0.04513112],\n",
       "       [0.04350478],\n",
       "       [0.04736735],\n",
       "       [0.04431795],\n",
       "       [0.04147184],\n",
       "       [0.03618622],\n",
       "       [0.02480179],\n",
       "       [0.05366945],\n",
       "       [0.06485058],\n",
       "       [0.08619638],\n",
       "       [0.08924578],\n",
       "       [0.09615776],\n",
       "       [0.10896524],\n",
       "       [0.10245985],\n",
       "       [0.10591584],\n",
       "       [0.10428949],\n",
       "       [0.13254727],\n",
       "       [0.10367961],\n",
       "       [0.09819069],\n",
       "       [0.10652572],\n",
       "       [0.10550925],\n",
       "       [0.10571254],\n",
       "       [0.10672901],\n",
       "       [0.10530596],\n",
       "       [0.09737752],\n",
       "       [0.08274039],\n",
       "       [0.07908111],\n",
       "       [0.08538321],\n",
       "       [0.08619638],\n",
       "       [0.08680626],\n",
       "       [0.08396015],\n",
       "       [0.08599309],\n",
       "       [0.07989429],\n",
       "       [0.10245985],\n",
       "       [0.08009758],\n",
       "       [0.09310836],\n",
       "       [0.09392153],\n",
       "       [0.09026225],\n",
       "       [0.1010368 ],\n",
       "       [0.0947347 ],\n",
       "       [0.06688351],\n",
       "       [0.05773531],\n",
       "       [0.0489937 ],\n",
       "       [0.04167514],\n",
       "       [0.04553771],\n",
       "       [0.04147184],\n",
       "       [0.0396422 ],\n",
       "       [0.04431795],\n",
       "       [0.05062004],\n",
       "       [0.06505387],\n",
       "       [0.06749339],\n",
       "       [0.0642407 ],\n",
       "       [0.07379549],\n",
       "       [0.07582842],\n",
       "       [0.07155926],\n",
       "       [0.06139459],\n",
       "       [0.06586705],\n",
       "       [0.06749339],\n",
       "       [0.05041675],\n",
       "       [0.05773531],\n",
       "       [0.05773531],\n",
       "       [0.05468591],\n",
       "       [0.03821915],\n",
       "       [0.02195568],\n",
       "       [0.0274446 ],\n",
       "       [0.02337874],\n",
       "       [0.02846107],\n",
       "       [0.03862574],\n",
       "       [0.05651555],\n",
       "       [0.05976825],\n",
       "       [0.06139459],\n",
       "       [0.05895507],\n",
       "       [0.06302094],\n",
       "       [0.06281765],\n",
       "       [0.06932303],\n",
       "       [0.07115267],\n",
       "       [0.08335027],\n",
       "       [0.07562513],\n",
       "       [0.07582842],\n",
       "       [0.06607034],\n",
       "       [0.06403741],\n",
       "       [0.06464729],\n",
       "       [0.06911974],\n",
       "       [0.07277902],\n",
       "       [0.07765806],\n",
       "       [0.08477333],\n",
       "       [0.08944908],\n",
       "       [0.09310836],\n",
       "       [0.08944908],\n",
       "       [0.08660297],\n",
       "       [0.08457003],\n",
       "       [0.08192722],\n",
       "       [0.08009758],\n",
       "       [0.08965237],\n",
       "       [0.08883919],\n",
       "       [0.08578979],\n",
       "       [0.09026225],\n",
       "       [0.11221793],\n",
       "       [0.10855865],\n",
       "       [0.10022362],\n",
       "       [0.09758081],\n",
       "       [0.08131734],\n",
       "       [0.07562513],\n",
       "       [0.06586705],\n",
       "       [0.06180118],\n",
       "       [0.06546046],\n",
       "       [0.06668022],\n",
       "       [0.07399878],\n",
       "       [0.06952633],\n",
       "       [0.06546046],\n",
       "       [0.06871315],\n",
       "       [0.06952633],\n",
       "       [0.07155926],\n",
       "       [0.07074609],\n",
       "       [0.07603171],\n",
       "       [0.08009758],\n",
       "       [0.08700955],\n",
       "       [0.09351494],\n",
       "       [0.06180118],\n",
       "       [0.06261435],\n",
       "       [0.04858711],\n",
       "       [0.03232364],\n",
       "       [0.03720268],\n",
       "       [0.03740598],\n",
       "       [0.0365928 ],\n",
       "       [0.02927424],\n",
       "       [0.03029071],\n",
       "       [0.05366945],\n",
       "       [0.05976825],\n",
       "       [0.0672901 ],\n",
       "       [0.05753202],\n",
       "       [0.08009758],\n",
       "       [0.08131734],\n",
       "       [0.05346615],\n",
       "       [0.05570238],\n",
       "       [0.04960358],\n",
       "       [0.04045538],\n",
       "       [0.02520838],\n",
       "       [0.04147184],\n",
       "       [0.05692214],\n",
       "       [0.06058142],\n",
       "       [0.06037813],\n",
       "       [0.0611913 ],\n",
       "       [0.06993291],\n",
       "       [0.07806465],\n",
       "       [0.07237243],\n",
       "       [0.09758081],\n",
       "       [0.10327302],\n",
       "       [0.10002033],\n",
       "       [0.09737752],\n",
       "       [0.10022362],\n",
       "       [0.1069323 ],\n",
       "       [0.0979874 ],\n",
       "       [0.0979874 ],\n",
       "       [0.10347632],\n",
       "       [0.10937182],\n",
       "       [0.08822931],\n",
       "       [0.08700955],\n",
       "       [0.09392153],\n",
       "       [0.10530596],\n",
       "       [0.12278918],\n",
       "       [0.12441553],\n",
       "       [0.12644847],\n",
       "       [0.12766823],\n",
       "       [0.11872332],\n",
       "       [0.10632242],\n",
       "       [0.11425086],\n",
       "       [0.11384428],\n",
       "       [0.11465745],\n",
       "       [0.12665176],\n",
       "       [0.12685505],\n",
       "       [0.13051433],\n",
       "       [0.13823948],\n",
       "       [0.14230535],\n",
       "       [0.1345802 ],\n",
       "       [0.13295385],\n",
       "       [0.13661313],\n",
       "       [0.12990445],\n",
       "       [0.12888799],\n",
       "       [0.1223826 ],\n",
       "       [0.1345802 ],\n",
       "       [0.13254727],\n",
       "       [0.13397032],\n",
       "       [0.13356373],\n",
       "       [0.13498679],\n",
       "       [0.14108559],\n",
       "       [0.13498679],\n",
       "       [0.12644847],\n",
       "       [0.12685505],\n",
       "       [0.12482212],\n",
       "       [0.14515145],\n",
       "       [0.1467778 ],\n",
       "       [0.15003049],\n",
       "       [0.15368977],\n",
       "       [0.17198618],\n",
       "       [0.16548079],\n",
       "       [0.17625534],\n",
       "       [0.17564546],\n",
       "       [0.19129904],\n",
       "       [0.20817239],\n",
       "       [0.20309006],\n",
       "       [0.18479366],\n",
       "       [0.17930474],\n",
       "       [0.1896727 ],\n",
       "       [0.17483228],\n",
       "       [0.17849156],\n",
       "       [0.17645863],\n",
       "       [0.18540354],\n",
       "       [0.18377719],\n",
       "       [0.19190892],\n",
       "       [0.18987599],\n",
       "       [0.19028258],\n",
       "       [0.19394186],\n",
       "       [0.20004066],\n",
       "       [0.19638138],\n",
       "       [0.19495832],\n",
       "       [0.20349665],\n",
       "       [0.19597479],\n",
       "       [0.21162838],\n",
       "       [0.22036999],\n",
       "       [0.20979874],\n",
       "       [0.21528766],\n",
       "       [0.21589754],\n",
       "       [0.21610083],\n",
       "       [0.22748526],\n",
       "       [0.19150234],\n",
       "       [0.1833706 ],\n",
       "       [0.17340923],\n",
       "       [0.16751372],\n",
       "       [0.1622281 ],\n",
       "       [0.17056312],\n",
       "       [0.17462899],\n",
       "       [0.17930474],\n",
       "       [0.18174426],\n",
       "       [0.16853019],\n",
       "       [0.16548079],\n",
       "       [0.1742224 ],\n",
       "       [0.1713763 ],\n",
       "       [0.17300264],\n",
       "       [0.17157959],\n",
       "       [0.17767839],\n",
       "       [0.18459036],\n",
       "       [0.18702988],\n",
       "       [0.18987599],\n",
       "       [0.19109575],\n",
       "       [0.18581012],\n",
       "       [0.17015654],\n",
       "       [0.16751372],\n",
       "       [0.16974995],\n",
       "       [0.16609067],\n",
       "       [0.15531612],\n",
       "       [0.15003049],\n",
       "       [0.15064037],\n",
       "       [0.14860744],\n",
       "       [0.14596463],\n",
       "       [0.15043708],\n",
       "       [0.14413499],\n",
       "       [0.12441553],\n",
       "       [0.12827811],\n",
       "       [0.11547062],\n",
       "       [0.12034966],\n",
       "       [0.13478349],\n",
       "       [0.13498679],\n",
       "       [0.12868469],\n",
       "       [0.13295385],\n",
       "       [0.12807481],\n",
       "       [0.12624517],\n",
       "       [0.13051433],\n",
       "       [0.13905265],\n",
       "       [0.14718439],\n",
       "       [0.15104696],\n",
       "       [0.14515145],\n",
       "       [0.14311852],\n",
       "       [0.15816223],\n",
       "       [0.15328319],\n",
       "       [0.14921732],\n",
       "       [0.15531612],\n",
       "       [0.15917869],\n",
       "       [0.15938199],\n",
       "       [0.16344786]])"
      ]
     },
     "execution_count": 16,
     "metadata": {},
     "output_type": "execute_result"
    }
   ],
   "source": [
    "test_data"
   ]
  },
  {
   "cell_type": "code",
   "execution_count": 17,
   "id": "c90d6e80",
   "metadata": {},
   "outputs": [
    {
     "data": {
      "text/plain": [
       "((1628, 1), (407, 1))"
      ]
     },
     "execution_count": 17,
     "metadata": {},
     "output_type": "execute_result"
    }
   ],
   "source": [
    "train_data.shape, test_data.shape"
   ]
  },
  {
   "cell_type": "markdown",
   "id": "c5b137c4",
   "metadata": {},
   "source": [
    "# Timesteps"
   ]
  },
  {
   "cell_type": "code",
   "execution_count": 18,
   "id": "361b6d28",
   "metadata": {},
   "outputs": [],
   "source": [
    "#convert an array of values into a dataset matrix\n",
    "def create_data(dataset, time_step=1):\n",
    "    dataX, dataY = [], []\n",
    "    for i in range(len(dataset)-time_step-1):\n",
    "        a = (dataset[i:(i+time_step), 0])\n",
    "        dataX.append(a)\n",
    "        b = (dataset[i + time_step, 0])\n",
    "        dataY.append(b)\n",
    "    return np.array(dataX), np.array(dataY)"
   ]
  },
  {
   "cell_type": "code",
   "execution_count": 19,
   "id": "8a4400cd",
   "metadata": {},
   "outputs": [],
   "source": [
    "#reshape into X=t,t+1,t+2,t+3 and y=t+4\n",
    "\n",
    "time_step = 300\n",
    "\n",
    "X_train, Y_train = create_data(train_data, time_step)\n",
    "X_test, Y_test = create_data(test_data, time_step)"
   ]
  },
  {
   "cell_type": "code",
   "execution_count": 20,
   "id": "2abb270c",
   "metadata": {},
   "outputs": [
    {
     "data": {
      "text/plain": [
       "(array([[0.62268754, 0.62614353, 0.6391543 , ..., 0.38463102, 0.38991665,\n",
       "         0.39235617],\n",
       "        [0.62614353, 0.6391543 , 0.62594023, ..., 0.38991665, 0.39235617,\n",
       "         0.37853222],\n",
       "        [0.6391543 , 0.62594023, 0.63590161, ..., 0.39235617, 0.37853222,\n",
       "         0.38178492],\n",
       "        ...,\n",
       "        [0.25818256, 0.25736938, 0.26448465, ..., 0.16466762, 0.15043708,\n",
       "         0.15125025],\n",
       "        [0.25736938, 0.26448465, 0.26428136, ..., 0.15043708, 0.15125025,\n",
       "         0.14657451],\n",
       "        [0.26448465, 0.26428136, 0.26651758, ..., 0.15125025, 0.14657451,\n",
       "         0.14210205]]),\n",
       " array([[0.15734905, 0.16873348, 0.1774751 , ..., 0.12685505, 0.13051433,\n",
       "         0.13823948],\n",
       "        [0.16873348, 0.1774751 , 0.18702988, ..., 0.13051433, 0.13823948,\n",
       "         0.14230535],\n",
       "        [0.1774751 , 0.18702988, 0.16039845, ..., 0.13823948, 0.14230535,\n",
       "         0.1345802 ],\n",
       "        ...,\n",
       "        [0.00833503, 0.01097784, 0.01707664, ..., 0.15816223, 0.15328319,\n",
       "         0.14921732],\n",
       "        [0.01097784, 0.01707664, 0.01870299, ..., 0.15328319, 0.14921732,\n",
       "         0.15531612],\n",
       "        [0.01707664, 0.01870299, 0.02581826, ..., 0.14921732, 0.15531612,\n",
       "         0.15917869]]))"
      ]
     },
     "execution_count": 20,
     "metadata": {},
     "output_type": "execute_result"
    }
   ],
   "source": [
    "X_train,X_test"
   ]
  },
  {
   "cell_type": "code",
   "execution_count": 21,
   "id": "f44b1e7f",
   "metadata": {},
   "outputs": [
    {
     "data": {
      "text/plain": [
       "(array([0.37853222, 0.38178492, 0.37405977, ..., 0.14657451, 0.14210205,\n",
       "        0.15125025]),\n",
       " array([0.14230535, 0.1345802 , 0.13295385, 0.13661313, 0.12990445,\n",
       "        0.12888799, 0.1223826 , 0.1345802 , 0.13254727, 0.13397032,\n",
       "        0.13356373, 0.13498679, 0.14108559, 0.13498679, 0.12644847,\n",
       "        0.12685505, 0.12482212, 0.14515145, 0.1467778 , 0.15003049,\n",
       "        0.15368977, 0.17198618, 0.16548079, 0.17625534, 0.17564546,\n",
       "        0.19129904, 0.20817239, 0.20309006, 0.18479366, 0.17930474,\n",
       "        0.1896727 , 0.17483228, 0.17849156, 0.17645863, 0.18540354,\n",
       "        0.18377719, 0.19190892, 0.18987599, 0.19028258, 0.19394186,\n",
       "        0.20004066, 0.19638138, 0.19495832, 0.20349665, 0.19597479,\n",
       "        0.21162838, 0.22036999, 0.20979874, 0.21528766, 0.21589754,\n",
       "        0.21610083, 0.22748526, 0.19150234, 0.1833706 , 0.17340923,\n",
       "        0.16751372, 0.1622281 , 0.17056312, 0.17462899, 0.17930474,\n",
       "        0.18174426, 0.16853019, 0.16548079, 0.1742224 , 0.1713763 ,\n",
       "        0.17300264, 0.17157959, 0.17767839, 0.18459036, 0.18702988,\n",
       "        0.18987599, 0.19109575, 0.18581012, 0.17015654, 0.16751372,\n",
       "        0.16974995, 0.16609067, 0.15531612, 0.15003049, 0.15064037,\n",
       "        0.14860744, 0.14596463, 0.15043708, 0.14413499, 0.12441553,\n",
       "        0.12827811, 0.11547062, 0.12034966, 0.13478349, 0.13498679,\n",
       "        0.12868469, 0.13295385, 0.12807481, 0.12624517, 0.13051433,\n",
       "        0.13905265, 0.14718439, 0.15104696, 0.14515145, 0.14311852,\n",
       "        0.15816223, 0.15328319, 0.14921732, 0.15531612, 0.15917869,\n",
       "        0.15938199]))"
      ]
     },
     "execution_count": 21,
     "metadata": {},
     "output_type": "execute_result"
    }
   ],
   "source": [
    "Y_train,Y_test"
   ]
  },
  {
   "cell_type": "code",
   "execution_count": 22,
   "id": "177408b3",
   "metadata": {},
   "outputs": [
    {
     "data": {
      "text/plain": [
       "((106, 300), (1327, 300))"
      ]
     },
     "execution_count": 22,
     "metadata": {},
     "output_type": "execute_result"
    }
   ],
   "source": [
    "X_test.shape,X_train.shape"
   ]
  },
  {
   "cell_type": "code",
   "execution_count": 23,
   "id": "189959df",
   "metadata": {},
   "outputs": [
    {
     "data": {
      "text/plain": [
       "((106,), (1327,))"
      ]
     },
     "execution_count": 23,
     "metadata": {},
     "output_type": "execute_result"
    }
   ],
   "source": [
    "Y_test.shape, Y_train.shape"
   ]
  },
  {
   "cell_type": "code",
   "execution_count": 24,
   "id": "bba7dbe6",
   "metadata": {},
   "outputs": [],
   "source": [
    "#reshape input to be [sample, time steps, features] which is required for LSTM\n",
    "\n",
    "X_train = X_train.reshape(X_train.shape[0],X_train.shape[1],1)\n",
    "X_test = X_test.reshape(X_test.shape[0],X_test.shape[1],1)"
   ]
  },
  {
   "cell_type": "code",
   "execution_count": 25,
   "id": "7bd70a03",
   "metadata": {
    "scrolled": true
   },
   "outputs": [
    {
     "name": "stdout",
     "output_type": "stream",
     "text": [
      "Requirement already satisfied: keras in c:\\users\\7024d\\anaconda3\\lib\\site-packages (2.8.0)\n",
      "Note: you may need to restart the kernel to use updated packages.\n"
     ]
    }
   ],
   "source": [
    "pip install keras"
   ]
  },
  {
   "cell_type": "code",
   "execution_count": 26,
   "id": "efcf01e2",
   "metadata": {
    "scrolled": true
   },
   "outputs": [
    {
     "name": "stdout",
     "output_type": "stream",
     "text": [
      "Requirement already satisfied: tensorflow in c:\\users\\7024d\\anaconda3\\lib\\site-packages (2.8.0)\n",
      "Requirement already satisfied: keras<2.9,>=2.8.0rc0 in c:\\users\\7024d\\anaconda3\\lib\\site-packages (from tensorflow) (2.8.0)\n",
      "Requirement already satisfied: flatbuffers>=1.12 in c:\\users\\7024d\\anaconda3\\lib\\site-packages (from tensorflow) (1.12)\n",
      "Requirement already satisfied: termcolor>=1.1.0 in c:\\users\\7024d\\anaconda3\\lib\\site-packages (from tensorflow) (1.1.0)\n",
      "Requirement already satisfied: tensorflow-io-gcs-filesystem>=0.23.1 in c:\\users\\7024d\\anaconda3\\lib\\site-packages (from tensorflow) (0.26.0)\n",
      "Requirement already satisfied: setuptools in c:\\users\\7024d\\anaconda3\\lib\\site-packages (from tensorflow) (52.0.0.post20210125)\n",
      "Requirement already satisfied: tensorboard<2.9,>=2.8 in c:\\users\\7024d\\anaconda3\\lib\\site-packages (from tensorflow) (2.8.0)\n",
      "Requirement already satisfied: astunparse>=1.6.0 in c:\\users\\7024d\\anaconda3\\lib\\site-packages (from tensorflow) (1.6.3)\n",
      "Requirement already satisfied: h5py>=2.9.0 in c:\\users\\7024d\\anaconda3\\lib\\site-packages (from tensorflow) (3.1.0)\n",
      "Requirement already satisfied: absl-py>=0.4.0 in c:\\users\\7024d\\anaconda3\\lib\\site-packages (from tensorflow) (0.15.0)\n",
      "Requirement already satisfied: libclang>=9.0.1 in c:\\users\\7024d\\anaconda3\\lib\\site-packages (from tensorflow) (14.0.1)\n",
      "Requirement already satisfied: gast>=0.2.1 in c:\\users\\7024d\\anaconda3\\lib\\site-packages (from tensorflow) (0.4.0)\n",
      "Requirement already satisfied: six>=1.12.0 in c:\\users\\7024d\\anaconda3\\lib\\site-packages (from tensorflow) (1.15.0)\n",
      "Requirement already satisfied: tf-estimator-nightly==2.8.0.dev2021122109 in c:\\users\\7024d\\anaconda3\\lib\\site-packages (from tensorflow) (2.8.0.dev2021122109)\n",
      "Requirement already satisfied: wrapt>=1.11.0 in c:\\users\\7024d\\anaconda3\\lib\\site-packages (from tensorflow) (1.12.1)\n",
      "Requirement already satisfied: protobuf>=3.9.2 in c:\\users\\7024d\\anaconda3\\lib\\site-packages (from tensorflow) (3.19.1)\n",
      "Requirement already satisfied: grpcio<2.0,>=1.24.3 in c:\\users\\7024d\\anaconda3\\lib\\site-packages (from tensorflow) (1.46.3)\n",
      "Note: you may need to restart the kernel to use updated packages.\n",
      "Requirement already satisfied: keras-preprocessing>=1.1.1 in c:\\users\\7024d\\anaconda3\\lib\\site-packages (from tensorflow) (1.1.2)\n",
      "Requirement already satisfied: typing-extensions>=3.6.6 in c:\\users\\7024d\\anaconda3\\lib\\site-packages (from tensorflow) (3.7.4.3)\n",
      "Requirement already satisfied: numpy>=1.20 in c:\\users\\7024d\\anaconda3\\lib\\site-packages (from tensorflow) (1.22.4)\n",
      "Requirement already satisfied: google-pasta>=0.1.1 in c:\\users\\7024d\\anaconda3\\lib\\site-packages (from tensorflow) (0.2.0)\n",
      "Requirement already satisfied: opt-einsum>=2.3.2 in c:\\users\\7024d\\anaconda3\\lib\\site-packages (from tensorflow) (3.3.0)\n",
      "Requirement already satisfied: wheel<1.0,>=0.23.0 in c:\\users\\7024d\\anaconda3\\lib\\site-packages (from astunparse>=1.6.0->tensorflow) (0.36.2)\n",
      "Requirement already satisfied: google-auth<3,>=1.6.3 in c:\\users\\7024d\\anaconda3\\lib\\site-packages (from tensorboard<2.9,>=2.8->tensorflow) (1.21.3)\n",
      "Requirement already satisfied: tensorboard-plugin-wit>=1.6.0 in c:\\users\\7024d\\anaconda3\\lib\\site-packages (from tensorboard<2.9,>=2.8->tensorflow) (1.6.0)\n",
      "Requirement already satisfied: markdown>=2.6.8 in c:\\users\\7024d\\anaconda3\\lib\\site-packages (from tensorboard<2.9,>=2.8->tensorflow) (3.3.4)\n",
      "Requirement already satisfied: werkzeug>=0.11.15 in c:\\users\\7024d\\anaconda3\\lib\\site-packages (from tensorboard<2.9,>=2.8->tensorflow) (1.0.1)\n",
      "Requirement already satisfied: tensorboard-data-server<0.7.0,>=0.6.0 in c:\\users\\7024d\\anaconda3\\lib\\site-packages (from tensorboard<2.9,>=2.8->tensorflow) (0.6.1)\n",
      "Requirement already satisfied: requests<3,>=2.21.0 in c:\\users\\7024d\\anaconda3\\lib\\site-packages (from tensorboard<2.9,>=2.8->tensorflow) (2.25.1)\n",
      "Requirement already satisfied: google-auth-oauthlib<0.5,>=0.4.1 in c:\\users\\7024d\\anaconda3\\lib\\site-packages (from tensorboard<2.9,>=2.8->tensorflow) (0.4.4)\n",
      "Requirement already satisfied: rsa<5,>=3.1.4 in c:\\users\\7024d\\anaconda3\\lib\\site-packages (from google-auth<3,>=1.6.3->tensorboard<2.9,>=2.8->tensorflow) (4.7.2)\n",
      "Requirement already satisfied: pyasn1-modules>=0.2.1 in c:\\users\\7024d\\anaconda3\\lib\\site-packages (from google-auth<3,>=1.6.3->tensorboard<2.9,>=2.8->tensorflow) (0.2.8)\n",
      "Requirement already satisfied: cachetools<5.0,>=2.0.0 in c:\\users\\7024d\\anaconda3\\lib\\site-packages (from google-auth<3,>=1.6.3->tensorboard<2.9,>=2.8->tensorflow) (4.2.2)\n",
      "Requirement already satisfied: requests-oauthlib>=0.7.0 in c:\\users\\7024d\\anaconda3\\lib\\site-packages (from google-auth-oauthlib<0.5,>=0.4.1->tensorboard<2.9,>=2.8->tensorflow) (1.3.0)\n",
      "Requirement already satisfied: pyasn1<0.5.0,>=0.4.6 in c:\\users\\7024d\\anaconda3\\lib\\site-packages (from pyasn1-modules>=0.2.1->google-auth<3,>=1.6.3->tensorboard<2.9,>=2.8->tensorflow) (0.4.8)\n",
      "Requirement already satisfied: chardet<5,>=3.0.2 in c:\\users\\7024d\\anaconda3\\lib\\site-packages (from requests<3,>=2.21.0->tensorboard<2.9,>=2.8->tensorflow) (4.0.0)\n",
      "Requirement already satisfied: urllib3<1.27,>=1.21.1 in c:\\users\\7024d\\anaconda3\\lib\\site-packages (from requests<3,>=2.21.0->tensorboard<2.9,>=2.8->tensorflow) (1.26.4)\n",
      "Requirement already satisfied: idna<3,>=2.5 in c:\\users\\7024d\\anaconda3\\lib\\site-packages (from requests<3,>=2.21.0->tensorboard<2.9,>=2.8->tensorflow) (2.10)\n",
      "Requirement already satisfied: certifi>=2017.4.17 in c:\\users\\7024d\\anaconda3\\lib\\site-packages (from requests<3,>=2.21.0->tensorboard<2.9,>=2.8->tensorflow) (2020.12.5)\n",
      "Requirement already satisfied: oauthlib>=3.0.0 in c:\\users\\7024d\\anaconda3\\lib\\site-packages (from requests-oauthlib>=0.7.0->google-auth-oauthlib<0.5,>=0.4.1->tensorboard<2.9,>=2.8->tensorflow) (3.2.0)\n"
     ]
    }
   ],
   "source": [
    "pip install tensorflow"
   ]
  },
  {
   "cell_type": "code",
   "execution_count": 27,
   "id": "971c80b2",
   "metadata": {},
   "outputs": [],
   "source": [
    "# Create the Stacked LSTM model\n",
    "from tensorflow.keras.models import Sequential\n",
    "from tensorflow.keras.layers import Dense\n",
    "from tensorflow.keras.layers import LSTM"
   ]
  }
 ],
 "metadata": {
  "kernelspec": {
   "display_name": "Python 3",
   "language": "python",
   "name": "python3"
  },
  "language_info": {
   "codemirror_mode": {
    "name": "ipython",
    "version": 3
   },
   "file_extension": ".py",
   "mimetype": "text/x-python",
   "name": "python",
   "nbconvert_exporter": "python",
   "pygments_lexer": "ipython3",
   "version": "3.8.8"
  }
 },
 "nbformat": 4,
 "nbformat_minor": 5
}
